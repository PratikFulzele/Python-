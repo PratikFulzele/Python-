{
 "cells": [
  {
   "cell_type": "markdown",
   "id": "bd680f12-0c06-49f7-b7db-5cfff8736216",
   "metadata": {},
   "source": [
    "# Let make a countdown timer"
   ]
  },
  {
   "cell_type": "code",
   "execution_count": 33,
   "id": "03f94e64-188a-43c3-883e-f2d8ecbbc612",
   "metadata": {},
   "outputs": [
    {
     "name": "stdin",
     "output_type": "stream",
     "text": [
      "Enter the number to start the timer:  5\n",
      "Enter your message to display at the end:  Time over\n"
     ]
    },
    {
     "name": "stdout",
     "output_type": "stream",
     "text": [
      "Countdown started!\n",
      "5\n",
      "4\n",
      "3\n",
      "2\n",
      "1\n",
      "Time over\n"
     ]
    }
   ],
   "source": [
    "import time  \n",
    "# 1st Step - Get the countdown start number from the user  \n",
    "start = int(input(\"Enter the number to start the timer: \"))  \n",
    "message = input(\"Enter your message to display at the end: \")\n",
    "# 2nd Step - Use while loop to create a countdown  \n",
    "print(\"Countdown started!\")  \n",
    "while start > 0:  \n",
    "    print(start)  \n",
    "    time.sleep(1)\n",
    "    start -= 1  \n",
    "# 3rd Step - Get the message from the user and display it  \n",
    "  \n",
    "print(message)  \n"
   ]
  },
  {
   "cell_type": "code",
   "execution_count": null,
   "id": "d09add59-9bf0-4cb9-bf2d-51e009aa355d",
   "metadata": {},
   "outputs": [],
   "source": []
  }
 ],
 "metadata": {
  "kernelspec": {
   "display_name": "Python [conda env:base] *",
   "language": "python",
   "name": "conda-base-py"
  },
  "language_info": {
   "codemirror_mode": {
    "name": "ipython",
    "version": 3
   },
   "file_extension": ".py",
   "mimetype": "text/x-python",
   "name": "python",
   "nbconvert_exporter": "python",
   "pygments_lexer": "ipython3",
   "version": "3.12.7"
  }
 },
 "nbformat": 4,
 "nbformat_minor": 5
}
